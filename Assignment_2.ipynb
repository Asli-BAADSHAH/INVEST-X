{
  "nbformat": 4,
  "nbformat_minor": 0,
  "metadata": {
    "colab": {
      "provenance": [],
      "include_colab_link": true
    },
    "kernelspec": {
      "name": "python3",
      "display_name": "Python 3"
    },
    "language_info": {
      "name": "python"
    },
    "gpuClass": "standard"
  },
  "cells": [
    {
      "cell_type": "markdown",
      "metadata": {
        "id": "view-in-github",
        "colab_type": "text"
      },
      "source": [
        "<a href=\"https://colab.research.google.com/github/Asli-BAADSHAH/INVEST-X/blob/main/Assignment_2.ipynb\" target=\"_parent\"><img src=\"https://colab.research.google.com/assets/colab-badge.svg\" alt=\"Open In Colab\"/></a>"
      ]
    },
    {
      "cell_type": "code",
      "execution_count": 237,
      "metadata": {
        "id": "F3NmyDkdaw3f"
      },
      "outputs": [],
      "source": [
        "import numpy as np\n",
        "from tensorflow.keras.models import Sequential\n",
        "from tensorflow.keras.layers import LSTM\n",
        "from tensorflow.keras.layers import Dense, Dropout\n",
        "import pandas as pd\n",
        "from matplotlib import pyplot as plt\n",
        "from sklearn.preprocessing import StandardScaler\n",
        "import seaborn as sns\n",
        "\n",
        "#from datetime import datetime"
      ]
    },
    {
      "cell_type": "code",
      "source": [
        "df = pd.read_csv('Train.csv')\n",
        "print(df.head())\n",
        "df=df.head(300)"
      ],
      "metadata": {
        "colab": {
          "base_uri": "https://localhost:8080/"
        },
        "id": "9aH7bA5fdNV8",
        "outputId": "69579b7a-93ed-481e-adc2-8dc681c67dff"
      },
      "execution_count": 238,
      "outputs": [
        {
          "output_type": "stream",
          "name": "stdout",
          "text": [
            "         Date    Stock  liabilities      equity  total_assets  current_assets  \\\n",
            "0  2006-07-31  Stock 1   625.898686  925.086518   1550.985204      675.789905   \n",
            "1  2006-08-31  Stock 1   407.387467  903.249093   1310.636561     1023.110983   \n",
            "2  2006-09-29  Stock 1   464.069891  602.668832   1066.738722      709.711673   \n",
            "3  2006-10-31  Stock 1   855.854937  391.375369   1247.230306      649.979564   \n",
            "4  2006-11-30  Stock 1   453.954969  956.490566   1410.445534     1115.594551   \n",
            "\n",
            "   current_liabilities  total_revenue  net_income   dividend  \\\n",
            "0           555.931329     548.488451  251.282553  68.184030   \n",
            "1          1295.186240     513.446432  207.576940  42.232672   \n",
            "2           598.719338     503.519871  133.719700  28.835722   \n",
            "3           733.594339     596.006397  -76.881818   0.000000   \n",
            "4          1152.274711     965.939247 -309.204301   0.000000   \n",
            "\n",
            "   shares_outstanding       price  \n",
            "0             1040831  100.000000  \n",
            "1             1046649  101.924169  \n",
            "2             1094158  103.166191  \n",
            "3             1018574  104.478956  \n",
            "4             1036293  104.160907  \n"
          ]
        }
      ]
    },
    {
      "cell_type": "code",
      "source": [
        "cols = list(df)[2:12]\n",
        "print(cols)"
      ],
      "metadata": {
        "colab": {
          "base_uri": "https://localhost:8080/"
        },
        "id": "YLtCdVuQdaqD",
        "outputId": "117a8458-a3eb-406a-f85f-51d95a8190f4"
      },
      "execution_count": 239,
      "outputs": [
        {
          "output_type": "stream",
          "name": "stdout",
          "text": [
            "['liabilities', 'equity', 'total_assets', 'current_assets', 'current_liabilities', 'total_revenue', 'net_income', 'dividend', 'shares_outstanding', 'price']\n"
          ]
        }
      ]
    },
    {
      "cell_type": "code",
      "source": [
        "df_for_training = df[cols].astype(float)"
      ],
      "metadata": {
        "id": "kW6fJrsveCsy"
      },
      "execution_count": 240,
      "outputs": []
    },
    {
      "cell_type": "code",
      "source": [
        "scaler = StandardScaler()\n",
        "scaler = scaler.fit(df_for_training)\n",
        "df_for_training_scaled = scaler.transform(df_for_training)"
      ],
      "metadata": {
        "id": "sMJHDh0Eea0u"
      },
      "execution_count": 241,
      "outputs": []
    },
    {
      "cell_type": "code",
      "source": [
        "trainX = []\n",
        "trainY = []"
      ],
      "metadata": {
        "id": "UXLCuxpYefYU"
      },
      "execution_count": 242,
      "outputs": []
    },
    {
      "cell_type": "code",
      "source": [
        "n_future = 1   # Number of days we want to look into the future based on the past days.\n",
        "n_past = 14 # Number of past days we want to use to predict the future."
      ],
      "metadata": {
        "id": "SlZmQQHaepNo"
      },
      "execution_count": 243,
      "outputs": []
    },
    {
      "cell_type": "code",
      "source": [
        "for i in range(n_past, len(df_for_training_scaled) - n_future +1):\n",
        "    trainX.append(df_for_training_scaled[i - n_past:i, 0:df_for_training.shape[1]])\n",
        "    trainY.append(df_for_training_scaled[i + n_future - 1:i + n_future, 9])\n",
        "\n",
        "trainX, trainY = np.array(trainX), np.array(trainY)\n",
        "\n",
        "print('trainX shape == {}.'.format(trainX.shape))\n",
        "print('trainY shape == {}.'.format(trainY.shape))"
      ],
      "metadata": {
        "colab": {
          "base_uri": "https://localhost:8080/"
        },
        "id": "9UGlhknUfFXB",
        "outputId": "a83f1c8d-3893-4969-e1b8-59b5ea7905ad"
      },
      "execution_count": 244,
      "outputs": [
        {
          "output_type": "stream",
          "name": "stdout",
          "text": [
            "trainX shape == (286, 14, 10).\n",
            "trainY shape == (286, 1).\n"
          ]
        }
      ]
    },
    {
      "cell_type": "code",
      "source": [
        "df_for_training_scaled"
      ],
      "metadata": {
        "colab": {
          "base_uri": "https://localhost:8080/"
        },
        "id": "Mf2hun7pvqvf",
        "outputId": "ad667fba-6941-45ba-a305-2a14bc7a40f1"
      },
      "execution_count": 245,
      "outputs": [
        {
          "output_type": "execute_result",
          "data": {
            "text/plain": [
              "array([[ 0.33927535,  1.4439553 ,  1.32741326, ...,  1.75202465,\n",
              "        -0.25368313, -1.13001325],\n",
              "       [-0.53505957,  1.36273722,  0.65295245, ...,  0.83317901,\n",
              "        -0.05190553, -0.93261857],\n",
              "       [-0.30825464,  0.24481455, -0.03146803, ...,  0.35884045,\n",
              "         1.59578297, -0.80520333],\n",
              "       ...,\n",
              "       [ 0.31803944,  1.12021993,  1.06825941, ..., -0.08954109,\n",
              "        -0.61312331, -2.40026425],\n",
              "       [ 0.75275108,  0.75270116,  1.09583189, ..., -0.28650059,\n",
              "         1.60972498, -2.34718066],\n",
              "       [ 1.01785332, -1.21915254, -0.20602788, ..., -0.52084799,\n",
              "        -0.52804933, -2.26433503]])"
            ]
          },
          "metadata": {},
          "execution_count": 245
        }
      ]
    },
    {
      "cell_type": "code",
      "source": [
        "trainY"
      ],
      "metadata": {
        "colab": {
          "base_uri": "https://localhost:8080/"
        },
        "id": "A4HvqbAkv1ZW",
        "outputId": "d2aa2656-4e09-4716-fa21-7c837dff04ac"
      },
      "execution_count": 246,
      "outputs": [
        {
          "output_type": "execute_result",
          "data": {
            "text/plain": [
              "array([[-0.27415295],\n",
              "       [-0.4172296 ],\n",
              "       [-0.35387503],\n",
              "       [-0.42298223],\n",
              "       [-0.45490064],\n",
              "       [-0.38307664],\n",
              "       [-0.27161913],\n",
              "       [-0.33393997],\n",
              "       [-0.47242882],\n",
              "       [-0.63699319],\n",
              "       [-0.58730559],\n",
              "       [-0.53729528],\n",
              "       [-0.46737562],\n",
              "       [-0.43149354],\n",
              "       [-0.3942545 ],\n",
              "       [-0.35366943],\n",
              "       [-0.18111648],\n",
              "       [-0.14888244],\n",
              "       [-0.01403419],\n",
              "       [ 0.13603103],\n",
              "       [ 0.3618567 ],\n",
              "       [ 0.37585134],\n",
              "       [ 0.328182  ],\n",
              "       [ 0.23368626],\n",
              "       [ 0.12337806],\n",
              "       [ 0.15290226],\n",
              "       [ 0.17534615],\n",
              "       [ 0.25750438],\n",
              "       [ 0.29304014],\n",
              "       [ 0.26782156],\n",
              "       [ 0.35172459],\n",
              "       [ 0.29518009],\n",
              "       [ 0.33853724],\n",
              "       [ 0.48501681],\n",
              "       [ 0.53745314],\n",
              "       [ 0.54038024],\n",
              "       [ 0.59345346],\n",
              "       [ 0.69005345],\n",
              "       [ 0.51770349],\n",
              "       [ 0.49885217],\n",
              "       [ 0.58014578],\n",
              "       [ 0.6517627 ],\n",
              "       [ 0.70288707],\n",
              "       [ 0.78728772],\n",
              "       [ 0.73221432],\n",
              "       [ 0.63264234],\n",
              "       [ 0.4905674 ],\n",
              "       [ 0.40028765],\n",
              "       [ 0.47420153],\n",
              "       [ 0.56923101],\n",
              "       [ 0.75992969],\n",
              "       [ 0.87536568],\n",
              "       [ 0.9834078 ],\n",
              "       [ 1.17293261],\n",
              "       [ 1.15910926],\n",
              "       [ 1.10917519],\n",
              "       [ 1.2875082 ],\n",
              "       [ 1.2024192 ],\n",
              "       [ 1.0450794 ],\n",
              "       [ 1.11680549],\n",
              "       [ 1.10487476],\n",
              "       [ 1.17617264],\n",
              "       [ 1.08426094],\n",
              "       [ 1.13746649],\n",
              "       [ 1.11820896],\n",
              "       [ 1.19059049],\n",
              "       [ 1.15978595],\n",
              "       [ 1.15153579],\n",
              "       [ 1.10326004],\n",
              "       [ 1.14579805],\n",
              "       [ 1.26777207],\n",
              "       [ 1.39573683],\n",
              "       [ 1.31716501],\n",
              "       [ 1.23129874],\n",
              "       [ 1.11654246],\n",
              "       [ 1.10075803],\n",
              "       [ 0.99520454],\n",
              "       [ 1.06114919],\n",
              "       [ 1.18342576],\n",
              "       [ 1.33949315],\n",
              "       [ 1.45689761],\n",
              "       [ 1.45384198],\n",
              "       [ 1.53677625],\n",
              "       [ 1.5919444 ],\n",
              "       [ 1.55349429],\n",
              "       [ 1.56785273],\n",
              "       [ 1.70125575],\n",
              "       [ 1.66044098],\n",
              "       [ 1.54362224],\n",
              "       [ 1.46247124],\n",
              "       [ 1.37736185],\n",
              "       [ 1.43767472],\n",
              "       [ 1.42436619],\n",
              "       [ 1.54726793],\n",
              "       [ 1.61185136],\n",
              "       [ 1.70667825],\n",
              "       [ 1.64828049],\n",
              "       [ 1.59337272],\n",
              "       [ 1.4665234 ],\n",
              "       [ 1.52725951],\n",
              "       [ 1.63147206],\n",
              "       [ 1.59607982],\n",
              "       [ 1.49514239],\n",
              "       [ 1.57918727],\n",
              "       [ 1.55346449],\n",
              "       [ 1.52747939],\n",
              "       [ 1.49916922],\n",
              "       [ 1.52956971],\n",
              "       [ 1.4772234 ],\n",
              "       [ 1.5808452 ],\n",
              "       [ 1.56407916],\n",
              "       [ 1.44651472],\n",
              "       [ 1.36313831],\n",
              "       [ 1.44095664],\n",
              "       [ 1.55095532],\n",
              "       [ 1.43232569],\n",
              "       [ 1.22446508],\n",
              "       [ 1.22322014],\n",
              "       [ 1.25618137],\n",
              "       [ 1.22528978],\n",
              "       [ 1.16701029],\n",
              "       [ 1.08230518],\n",
              "       [ 1.24911956],\n",
              "       [ 1.24532482],\n",
              "       [ 1.18457527],\n",
              "       [ 1.30334127],\n",
              "       [ 1.4908495 ],\n",
              "       [ 1.44184758],\n",
              "       [ 1.28975133],\n",
              "       [ 1.26784749],\n",
              "       [ 1.17905731],\n",
              "       [ 1.01360359],\n",
              "       [ 1.00556159],\n",
              "       [ 1.07983834],\n",
              "       [ 0.96073933],\n",
              "       [ 0.88965415],\n",
              "       [-1.13001325],\n",
              "       [-0.8896838 ],\n",
              "       [-0.75925224],\n",
              "       [-0.8444404 ],\n",
              "       [-0.88059299],\n",
              "       [-0.953888  ],\n",
              "       [-0.91850777],\n",
              "       [-0.94625407],\n",
              "       [-0.82753036],\n",
              "       [-0.72126797],\n",
              "       [-0.59638753],\n",
              "       [-0.43355229],\n",
              "       [-0.27628426],\n",
              "       [-0.15261585],\n",
              "       [-0.13012831],\n",
              "       [-0.15593266],\n",
              "       [-0.1328667 ],\n",
              "       [-0.01674721],\n",
              "       [-0.08445042],\n",
              "       [-0.21829467],\n",
              "       [-0.19285737],\n",
              "       [-0.22255681],\n",
              "       [-0.34403856],\n",
              "       [-0.31758297],\n",
              "       [-0.17975293],\n",
              "       [-0.01068512],\n",
              "       [-0.04923615],\n",
              "       [-0.16409401],\n",
              "       [-0.09043589],\n",
              "       [-0.00272607],\n",
              "       [-0.10053702],\n",
              "       [-0.03846868],\n",
              "       [-0.13762543],\n",
              "       [-0.07904725],\n",
              "       [-0.1792851 ],\n",
              "       [-0.16292522],\n",
              "       [-0.11402269],\n",
              "       [-0.01832475],\n",
              "       [-0.12284429],\n",
              "       [-0.29419726],\n",
              "       [-0.38426322],\n",
              "       [-0.33436584],\n",
              "       [-0.3076207 ],\n",
              "       [-0.41563052],\n",
              "       [-0.5092154 ],\n",
              "       [-0.58696542],\n",
              "       [-0.74336244],\n",
              "       [-0.87432576],\n",
              "       [-1.02856742],\n",
              "       [-0.91724748],\n",
              "       [-0.97827311],\n",
              "       [-0.91602391],\n",
              "       [-0.96602077],\n",
              "       [-0.88791734],\n",
              "       [-0.76845745],\n",
              "       [-0.81102807],\n",
              "       [-0.77393807],\n",
              "       [-0.67990181],\n",
              "       [-0.46321078],\n",
              "       [-0.32875292],\n",
              "       [-0.3788764 ],\n",
              "       [-0.41909261],\n",
              "       [-0.39471994],\n",
              "       [-0.48551094],\n",
              "       [-0.62905319],\n",
              "       [-0.58661378],\n",
              "       [-0.61264658],\n",
              "       [-0.53267858],\n",
              "       [-0.40918338],\n",
              "       [-0.48358612],\n",
              "       [-0.55960082],\n",
              "       [-0.65970191],\n",
              "       [-0.75991058],\n",
              "       [-0.62228157],\n",
              "       [-0.66375892],\n",
              "       [-0.53530135],\n",
              "       [-0.54250087],\n",
              "       [-0.45808442],\n",
              "       [-0.50490143],\n",
              "       [-0.55579648],\n",
              "       [-0.50992288],\n",
              "       [-0.40162174],\n",
              "       [-0.48390008],\n",
              "       [-0.32943863],\n",
              "       [-0.15702017],\n",
              "       [-0.04933759],\n",
              "       [ 0.02464847],\n",
              "       [-0.05508814],\n",
              "       [-0.17296818],\n",
              "       [-0.29814377],\n",
              "       [-0.43142778],\n",
              "       [-0.42665149],\n",
              "       [-0.38082146],\n",
              "       [-0.25048957],\n",
              "       [-0.13372304],\n",
              "       [-0.0141417 ],\n",
              "       [-0.11383442],\n",
              "       [-0.23353563],\n",
              "       [-0.3087175 ],\n",
              "       [-0.52281366],\n",
              "       [-0.55255476],\n",
              "       [-0.592313  ],\n",
              "       [-0.6736068 ],\n",
              "       [-0.63673684],\n",
              "       [-0.7502612 ],\n",
              "       [-0.74649239],\n",
              "       [-0.6593613 ],\n",
              "       [-0.72073632],\n",
              "       [-0.82387017],\n",
              "       [-0.86622495],\n",
              "       [-0.8500231 ],\n",
              "       [-0.76196581],\n",
              "       [-0.75525609],\n",
              "       [-0.90038684],\n",
              "       [-0.81677984],\n",
              "       [-0.88651822],\n",
              "       [-0.85018828],\n",
              "       [-0.83993134],\n",
              "       [-0.99114728],\n",
              "       [-1.08442111],\n",
              "       [-1.18248938],\n",
              "       [-1.13744362],\n",
              "       [-1.04629878],\n",
              "       [-1.0569987 ],\n",
              "       [-1.1459741 ],\n",
              "       [-1.27693628],\n",
              "       [-1.40138523],\n",
              "       [-1.46217689],\n",
              "       [-1.43248785],\n",
              "       [-1.47640196],\n",
              "       [-1.51543529],\n",
              "       [-1.58490083],\n",
              "       [-1.55483378],\n",
              "       [-1.45687241],\n",
              "       [-1.31180662],\n",
              "       [-1.36374576],\n",
              "       [-1.46778653],\n",
              "       [-1.56334351],\n",
              "       [-1.64990618],\n",
              "       [-1.77779186],\n",
              "       [-1.95450068],\n",
              "       [-2.06147763],\n",
              "       [-2.19591655],\n",
              "       [-2.14799048],\n",
              "       [-2.22517058],\n",
              "       [-2.27877037],\n",
              "       [-2.35911478],\n",
              "       [-2.40026425],\n",
              "       [-2.34718066],\n",
              "       [-2.26433503]])"
            ]
          },
          "metadata": {},
          "execution_count": 246
        }
      ]
    },
    {
      "cell_type": "code",
      "source": [
        "model = Sequential()\n",
        "model.add(LSTM(64, activation='relu', input_shape=(trainX.shape[1], trainX.shape[2]), return_sequences=True)) \n",
        "model.add(LSTM(32, activation='relu', return_sequences=False))\n",
        "model.add(Dropout(0.2))\n",
        "model.add(Dense(trainY.shape[1]))\n",
        "\n",
        "model.compile(optimizer='adam', loss='mse')\n",
        "model.summary()"
      ],
      "metadata": {
        "colab": {
          "base_uri": "https://localhost:8080/"
        },
        "id": "xLJ_fEZ8foI3",
        "outputId": "ca0414db-d4e6-4782-9d0e-846466ed2c9c"
      },
      "execution_count": 247,
      "outputs": [
        {
          "output_type": "stream",
          "name": "stdout",
          "text": [
            "Model: \"sequential_10\"\n",
            "_________________________________________________________________\n",
            " Layer (type)                Output Shape              Param #   \n",
            "=================================================================\n",
            " lstm_20 (LSTM)              (None, 14, 64)            19200     \n",
            "                                                                 \n",
            " lstm_21 (LSTM)              (None, 32)                12416     \n",
            "                                                                 \n",
            " dropout_10 (Dropout)        (None, 32)                0         \n",
            "                                                                 \n",
            " dense_10 (Dense)            (None, 1)                 33        \n",
            "                                                                 \n",
            "=================================================================\n",
            "Total params: 31,649\n",
            "Trainable params: 31,649\n",
            "Non-trainable params: 0\n",
            "_________________________________________________________________\n"
          ]
        }
      ]
    },
    {
      "cell_type": "code",
      "source": [
        "history = model.fit(trainX, trainY, epochs=5, batch_size=3, validation_split=0.1, verbose=1)"
      ],
      "metadata": {
        "colab": {
          "base_uri": "https://localhost:8080/"
        },
        "id": "gR-gELFqhCt3",
        "outputId": "c21917c0-9d68-4461-e932-25f17b7dfcd8"
      },
      "execution_count": 248,
      "outputs": [
        {
          "output_type": "stream",
          "name": "stdout",
          "text": [
            "Epoch 1/5\n",
            "86/86 [==============================] - 6s 20ms/step - loss: 0.3218 - val_loss: 0.2185\n",
            "Epoch 2/5\n",
            "86/86 [==============================] - 1s 15ms/step - loss: 0.1007 - val_loss: 0.1338\n",
            "Epoch 3/5\n",
            "86/86 [==============================] - 2s 23ms/step - loss: 0.0861 - val_loss: 0.5234\n",
            "Epoch 4/5\n",
            "86/86 [==============================] - 2s 21ms/step - loss: 0.0973 - val_loss: 1.4811\n",
            "Epoch 5/5\n",
            "86/86 [==============================] - 1s 15ms/step - loss: 0.0739 - val_loss: 0.0934\n"
          ]
        }
      ]
    },
    {
      "cell_type": "code",
      "source": [
        "plt.plot(history.history['loss'], label='Training loss')\n",
        "plt.plot(history.history['val_loss'], label='Validation loss')\n",
        "plt.legend()"
      ],
      "metadata": {
        "colab": {
          "base_uri": "https://localhost:8080/",
          "height": 447
        },
        "id": "ReHWBQ1VhKzd",
        "outputId": "a0bc3599-09ea-49db-a0d2-562df3306e6f"
      },
      "execution_count": 249,
      "outputs": [
        {
          "output_type": "execute_result",
          "data": {
            "text/plain": [
              "<matplotlib.legend.Legend at 0x7f099340e920>"
            ]
          },
          "metadata": {},
          "execution_count": 249
        },
        {
          "output_type": "display_data",
          "data": {
            "text/plain": [
              "<Figure size 640x480 with 1 Axes>"
            ],
            "image/png": "[encoded data removed]"
          },
          "metadata": {}
        }
      ]
    },
    {
      "cell_type": "code",
      "source": [
        "from pandas.tseries.holiday import USFederalHolidayCalendar\n",
        "from pandas.tseries.offsets import CustomBusinessDay\n",
        "us_bd = CustomBusinessDay(calendar=USFederalHolidayCalendar())"
      ],
      "metadata": {
        "id": "ncph6lCWjfQ_"
      },
      "execution_count": 250,
      "outputs": []
    },
    {
      "cell_type": "code",
      "source": [
        "df2= df.head(300)\n",
        "train_dates = pd.to_datetime(df2['Date'])\n",
        "print(train_dates.tail(15)) "
      ],
      "metadata": {
        "colab": {
          "base_uri": "https://localhost:8080/"
        },
        "id": "DSZrHFBYj7iK",
        "outputId": "f7af6a4e-e71a-4bb2-c005-e57e845a85c6"
      },
      "execution_count": 251,
      "outputs": [
        {
          "output_type": "stream",
          "name": "stdout",
          "text": [
            "285   2017-10-31\n",
            "286   2017-11-30\n",
            "287   2017-12-29\n",
            "288   2018-01-31\n",
            "289   2018-02-28\n",
            "290   2018-03-30\n",
            "291   2018-04-30\n",
            "292   2018-05-31\n",
            "293   2018-06-29\n",
            "294   2018-07-31\n",
            "295   2018-08-31\n",
            "296   2018-09-28\n",
            "297   2018-10-31\n",
            "298   2018-11-30\n",
            "299   2018-12-31\n",
            "Name: Date, dtype: datetime64[ns]\n"
          ]
        }
      ]
    },
    {
      "cell_type": "code",
      "source": [
        "n_past = 300\n",
        "n_days_for_prediction=286 \n",
        "\n",
        "predict_period_dates = pd.date_range(list(train_dates)[-n_past], periods=n_days_for_prediction, freq='M').tolist()\n",
        "print(predict_period_dates)"
      ],
      "metadata": {
        "colab": {
          "base_uri": "https://localhost:8080/"
        },
        "id": "yAZn0dxejZ-b",
        "outputId": "898945d7-71c9-479d-bdc7-64a01cd9ed59"
      },
      "execution_count": 252,
      "outputs": [
        {
          "output_type": "stream",
          "name": "stdout",
          "text": [
            "[Timestamp('2006-07-31 00:00:00', freq='M'), Timestamp('2006-08-31 00:00:00', freq='M'), Timestamp('2006-09-30 00:00:00', freq='M'), Timestamp('2006-10-31 00:00:00', freq='M'), Timestamp('2006-11-30 00:00:00', freq='M'), Timestamp('2006-12-31 00:00:00', freq='M'), Timestamp('2007-01-31 00:00:00', freq='M'), Timestamp('2007-02-28 00:00:00', freq='M'), Timestamp('2007-03-31 00:00:00', freq='M'), Timestamp('2007-04-30 00:00:00', freq='M'), Timestamp('2007-05-31 00:00:00', freq='M'), Timestamp('2007-06-30 00:00:00', freq='M'), Timestamp('2007-07-31 00:00:00', freq='M'), Timestamp('2007-08-31 00:00:00', freq='M'), Timestamp('2007-09-30 00:00:00', freq='M'), Timestamp('2007-10-31 00:00:00', freq='M'), Timestamp('2007-11-30 00:00:00', freq='M'), Timestamp('2007-12-31 00:00:00', freq='M'), Timestamp('2008-01-31 00:00:00', freq='M'), Timestamp('2008-02-29 00:00:00', freq='M'), Timestamp('2008-03-31 00:00:00', freq='M'), Timestamp('2008-04-30 00:00:00', freq='M'), Timestamp('2008-05-31 00:00:00', freq='M'), Timestamp('2008-06-30 00:00:00', freq='M'), Timestamp('2008-07-31 00:00:00', freq='M'), Timestamp('2008-08-31 00:00:00', freq='M'), Timestamp('2008-09-30 00:00:00', freq='M'), Timestamp('2008-10-31 00:00:00', freq='M'), Timestamp('2008-11-30 00:00:00', freq='M'), Timestamp('2008-12-31 00:00:00', freq='M'), Timestamp('2009-01-31 00:00:00', freq='M'), Timestamp('2009-02-28 00:00:00', freq='M'), Timestamp('2009-03-31 00:00:00', freq='M'), Timestamp('2009-04-30 00:00:00', freq='M'), Timestamp('2009-05-31 00:00:00', freq='M'), Timestamp('2009-06-30 00:00:00', freq='M'), Timestamp('2009-07-31 00:00:00', freq='M'), Timestamp('2009-08-31 00:00:00', freq='M'), Timestamp('2009-09-30 00:00:00', freq='M'), Timestamp('2009-10-31 00:00:00', freq='M'), Timestamp('2009-11-30 00:00:00', freq='M'), Timestamp('2009-12-31 00:00:00', freq='M'), Timestamp('2010-01-31 00:00:00', freq='M'), Timestamp('2010-02-28 00:00:00', freq='M'), Timestamp('2010-03-31 00:00:00', freq='M'), Timestamp('2010-04-30 00:00:00', freq='M'), Timestamp('2010-05-31 00:00:00', freq='M'), Timestamp('2010-06-30 00:00:00', freq='M'), Timestamp('2010-07-31 00:00:00', freq='M'), Timestamp('2010-08-31 00:00:00', freq='M'), Timestamp('2010-09-30 00:00:00', freq='M'), Timestamp('2010-10-31 00:00:00', freq='M'), Timestamp('2010-11-30 00:00:00', freq='M'), Timestamp('2010-12-31 00:00:00', freq='M'), Timestamp('2011-01-31 00:00:00', freq='M'), Timestamp('2011-02-28 00:00:00', freq='M'), Timestamp('2011-03-31 00:00:00', freq='M'), Timestamp('2011-04-30 00:00:00', freq='M'), Timestamp('2011-05-31 00:00:00', freq='M'), Timestamp('2011-06-30 00:00:00', freq='M'), Timestamp('2011-07-31 00:00:00', freq='M'), Timestamp('2011-08-31 00:00:00', freq='M'), Timestamp('2011-09-30 00:00:00', freq='M'), Timestamp('2011-10-31 00:00:00', freq='M'), Timestamp('2011-11-30 00:00:00', freq='M'), Timestamp('2011-12-31 00:00:00', freq='M'), Timestamp('2012-01-31 00:00:00', freq='M'), Timestamp('2012-02-29 00:00:00', freq='M'), Timestamp('2012-03-31 00:00:00', freq='M'), Timestamp('2012-04-30 00:00:00', freq='M'), Timestamp('2012-05-31 00:00:00', freq='M'), Timestamp('2012-06-30 00:00:00', freq='M'), Timestamp('2012-07-31 00:00:00', freq='M'), Timestamp('2012-08-31 00:00:00', freq='M'), Timestamp('2012-09-30 00:00:00', freq='M'), Timestamp('2012-10-31 00:00:00', freq='M'), Timestamp('2012-11-30 00:00:00', freq='M'), Timestamp('2012-12-31 00:00:00', freq='M'), Timestamp('2013-01-31 00:00:00', freq='M'), Timestamp('2013-02-28 00:00:00', freq='M'), Timestamp('2013-03-31 00:00:00', freq='M'), Timestamp('2013-04-30 00:00:00', freq='M'), Timestamp('2013-05-31 00:00:00', freq='M'), Timestamp('2013-06-30 00:00:00', freq='M'), Timestamp('2013-07-31 00:00:00', freq='M'), Timestamp('2013-08-31 00:00:00', freq='M'), Timestamp('2013-09-30 00:00:00', freq='M'), Timestamp('2013-10-31 00:00:00', freq='M'), Timestamp('2013-11-30 00:00:00', freq='M'), Timestamp('2013-12-31 00:00:00', freq='M'), Timestamp('2014-01-31 00:00:00', freq='M'), Timestamp('2014-02-28 00:00:00', freq='M'), Timestamp('2014-03-31 00:00:00', freq='M'), Timestamp('2014-04-30 00:00:00', freq='M'), Timestamp('2014-05-31 00:00:00', freq='M'), Timestamp('2014-06-30 00:00:00', freq='M'), Timestamp('2014-07-31 00:00:00', freq='M'), Timestamp('2014-08-31 00:00:00', freq='M'), Timestamp('2014-09-30 00:00:00', freq='M'), Timestamp('2014-10-31 00:00:00', freq='M'), Timestamp('2014-11-30 00:00:00', freq='M'), Timestamp('2014-12-31 00:00:00', freq='M'), Timestamp('2015-01-31 00:00:00', freq='M'), Timestamp('2015-02-28 00:00:00', freq='M'), Timestamp('2015-03-31 00:00:00', freq='M'), Timestamp('2015-04-30 00:00:00', freq='M'), Timestamp('2015-05-31 00:00:00', freq='M'), Timestamp('2015-06-30 00:00:00', freq='M'), Timestamp('2015-07-31 00:00:00', freq='M'), Timestamp('2015-08-31 00:00:00', freq='M'), Timestamp('2015-09-30 00:00:00', freq='M'), Timestamp('2015-10-31 00:00:00', freq='M'), Timestamp('2015-11-30 00:00:00', freq='M'), Timestamp('2015-12-31 00:00:00', freq='M'), Timestamp('2016-01-31 00:00:00', freq='M'), Timestamp('2016-02-29 00:00:00', freq='M'), Timestamp('2016-03-31 00:00:00', freq='M'), Timestamp('2016-04-30 00:00:00', freq='M'), Timestamp('2016-05-31 00:00:00', freq='M'), Timestamp('2016-06-30 00:00:00', freq='M'), Timestamp('2016-07-31 00:00:00', freq='M'), Timestamp('2016-08-31 00:00:00', freq='M'), Timestamp('2016-09-30 00:00:00', freq='M'), Timestamp('2016-10-31 00:00:00', freq='M'), Timestamp('2016-11-30 00:00:00', freq='M'), Timestamp('2016-12-31 00:00:00', freq='M'), Timestamp('2017-01-31 00:00:00', freq='M'), Timestamp('2017-02-28 00:00:00', freq='M'), Timestamp('2017-03-31 00:00:00', freq='M'), Timestamp('2017-04-30 00:00:00', freq='M'), Timestamp('2017-05-31 00:00:00', freq='M'), Timestamp('2017-06-30 00:00:00', freq='M'), Timestamp('2017-07-31 00:00:00', freq='M'), Timestamp('2017-08-31 00:00:00', freq='M'), Timestamp('2017-09-30 00:00:00', freq='M'), Timestamp('2017-10-31 00:00:00', freq='M'), Timestamp('2017-11-30 00:00:00', freq='M'), Timestamp('2017-12-31 00:00:00', freq='M'), Timestamp('2018-01-31 00:00:00', freq='M'), Timestamp('2018-02-28 00:00:00', freq='M'), Timestamp('2018-03-31 00:00:00', freq='M'), Timestamp('2018-04-30 00:00:00', freq='M'), Timestamp('2018-05-31 00:00:00', freq='M'), Timestamp('2018-06-30 00:00:00', freq='M'), Timestamp('2018-07-31 00:00:00', freq='M'), Timestamp('2018-08-31 00:00:00', freq='M'), Timestamp('2018-09-30 00:00:00', freq='M'), Timestamp('2018-10-31 00:00:00', freq='M'), Timestamp('2018-11-30 00:00:00', freq='M'), Timestamp('2018-12-31 00:00:00', freq='M'), Timestamp('2019-01-31 00:00:00', freq='M'), Timestamp('2019-02-28 00:00:00', freq='M'), Timestamp('2019-03-31 00:00:00', freq='M'), Timestamp('2019-04-30 00:00:00', freq='M'), Timestamp('2019-05-31 00:00:00', freq='M'), Timestamp('2019-06-30 00:00:00', freq='M'), Timestamp('2019-07-31 00:00:00', freq='M'), Timestamp('2019-08-31 00:00:00', freq='M'), Timestamp('2019-09-30 00:00:00', freq='M'), Timestamp('2019-10-31 00:00:00', freq='M'), Timestamp('2019-11-30 00:00:00', freq='M'), Timestamp('2019-12-31 00:00:00', freq='M'), Timestamp('2020-01-31 00:00:00', freq='M'), Timestamp('2020-02-29 00:00:00', freq='M'), Timestamp('2020-03-31 00:00:00', freq='M'), Timestamp('2020-04-30 00:00:00', freq='M'), Timestamp('2020-05-31 00:00:00', freq='M'), Timestamp('2020-06-30 00:00:00', freq='M'), Timestamp('2020-07-31 00:00:00', freq='M'), Timestamp('2020-08-31 00:00:00', freq='M'), Timestamp('2020-09-30 00:00:00', freq='M'), Timestamp('2020-10-31 00:00:00', freq='M'), Timestamp('2020-11-30 00:00:00', freq='M'), Timestamp('2020-12-31 00:00:00', freq='M'), Timestamp('2021-01-31 00:00:00', freq='M'), Timestamp('2021-02-28 00:00:00', freq='M'), Timestamp('2021-03-31 00:00:00', freq='M'), Timestamp('2021-04-30 00:00:00', freq='M'), Timestamp('2021-05-31 00:00:00', freq='M'), Timestamp('2021-06-30 00:00:00', freq='M'), Timestamp('2021-07-31 00:00:00', freq='M'), Timestamp('2021-08-31 00:00:00', freq='M'), Timestamp('2021-09-30 00:00:00', freq='M'), Timestamp('2021-10-31 00:00:00', freq='M'), Timestamp('2021-11-30 00:00:00', freq='M'), Timestamp('2021-12-31 00:00:00', freq='M'), Timestamp('2022-01-31 00:00:00', freq='M'), Timestamp('2022-02-28 00:00:00', freq='M'), Timestamp('2022-03-31 00:00:00', freq='M'), Timestamp('2022-04-30 00:00:00', freq='M'), Timestamp('2022-05-31 00:00:00', freq='M'), Timestamp('2022-06-30 00:00:00', freq='M'), Timestamp('2022-07-31 00:00:00', freq='M'), Timestamp('2022-08-31 00:00:00', freq='M'), Timestamp('2022-09-30 00:00:00', freq='M'), Timestamp('2022-10-31 00:00:00', freq='M'), Timestamp('2022-11-30 00:00:00', freq='M'), Timestamp('2022-12-31 00:00:00', freq='M'), Timestamp('2023-01-31 00:00:00', freq='M'), Timestamp('2023-02-28 00:00:00', freq='M'), Timestamp('2023-03-31 00:00:00', freq='M'), Timestamp('2023-04-30 00:00:00', freq='M'), Timestamp('2023-05-31 00:00:00', freq='M'), Timestamp('2023-06-30 00:00:00', freq='M'), Timestamp('2023-07-31 00:00:00', freq='M'), Timestamp('2023-08-31 00:00:00', freq='M'), Timestamp('2023-09-30 00:00:00', freq='M'), Timestamp('2023-10-31 00:00:00', freq='M'), Timestamp('2023-11-30 00:00:00', freq='M'), Timestamp('2023-12-31 00:00:00', freq='M'), Timestamp('2024-01-31 00:00:00', freq='M'), Timestamp('2024-02-29 00:00:00', freq='M'), Timestamp('2024-03-31 00:00:00', freq='M'), Timestamp('2024-04-30 00:00:00', freq='M'), Timestamp('2024-05-31 00:00:00', freq='M'), Timestamp('2024-06-30 00:00:00', freq='M'), Timestamp('2024-07-31 00:00:00', freq='M'), Timestamp('2024-08-31 00:00:00', freq='M'), Timestamp('2024-09-30 00:00:00', freq='M'), Timestamp('2024-10-31 00:00:00', freq='M'), Timestamp('2024-11-30 00:00:00', freq='M'), Timestamp('2024-12-31 00:00:00', freq='M'), Timestamp('2025-01-31 00:00:00', freq='M'), Timestamp('2025-02-28 00:00:00', freq='M'), Timestamp('2025-03-31 00:00:00', freq='M'), Timestamp('2025-04-30 00:00:00', freq='M'), Timestamp('2025-05-31 00:00:00', freq='M'), Timestamp('2025-06-30 00:00:00', freq='M'), Timestamp('2025-07-31 00:00:00', freq='M'), Timestamp('2025-08-31 00:00:00', freq='M'), Timestamp('2025-09-30 00:00:00', freq='M'), Timestamp('2025-10-31 00:00:00', freq='M'), Timestamp('2025-11-30 00:00:00', freq='M'), Timestamp('2025-12-31 00:00:00', freq='M'), Timestamp('2026-01-31 00:00:00', freq='M'), Timestamp('2026-02-28 00:00:00', freq='M'), Timestamp('2026-03-31 00:00:00', freq='M'), Timestamp('2026-04-30 00:00:00', freq='M'), Timestamp('2026-05-31 00:00:00', freq='M'), Timestamp('2026-06-30 00:00:00', freq='M'), Timestamp('2026-07-31 00:00:00', freq='M'), Timestamp('2026-08-31 00:00:00', freq='M'), Timestamp('2026-09-30 00:00:00', freq='M'), Timestamp('2026-10-31 00:00:00', freq='M'), Timestamp('2026-11-30 00:00:00', freq='M'), Timestamp('2026-12-31 00:00:00', freq='M'), Timestamp('2027-01-31 00:00:00', freq='M'), Timestamp('2027-02-28 00:00:00', freq='M'), Timestamp('2027-03-31 00:00:00', freq='M'), Timestamp('2027-04-30 00:00:00', freq='M'), Timestamp('2027-05-31 00:00:00', freq='M'), Timestamp('2027-06-30 00:00:00', freq='M'), Timestamp('2027-07-31 00:00:00', freq='M'), Timestamp('2027-08-31 00:00:00', freq='M'), Timestamp('2027-09-30 00:00:00', freq='M'), Timestamp('2027-10-31 00:00:00', freq='M'), Timestamp('2027-11-30 00:00:00', freq='M'), Timestamp('2027-12-31 00:00:00', freq='M'), Timestamp('2028-01-31 00:00:00', freq='M'), Timestamp('2028-02-29 00:00:00', freq='M'), Timestamp('2028-03-31 00:00:00', freq='M'), Timestamp('2028-04-30 00:00:00', freq='M'), Timestamp('2028-05-31 00:00:00', freq='M'), Timestamp('2028-06-30 00:00:00', freq='M'), Timestamp('2028-07-31 00:00:00', freq='M'), Timestamp('2028-08-31 00:00:00', freq='M'), Timestamp('2028-09-30 00:00:00', freq='M'), Timestamp('2028-10-31 00:00:00', freq='M'), Timestamp('2028-11-30 00:00:00', freq='M'), Timestamp('2028-12-31 00:00:00', freq='M'), Timestamp('2029-01-31 00:00:00', freq='M'), Timestamp('2029-02-28 00:00:00', freq='M'), Timestamp('2029-03-31 00:00:00', freq='M'), Timestamp('2029-04-30 00:00:00', freq='M'), Timestamp('2029-05-31 00:00:00', freq='M'), Timestamp('2029-06-30 00:00:00', freq='M'), Timestamp('2029-07-31 00:00:00', freq='M'), Timestamp('2029-08-31 00:00:00', freq='M'), Timestamp('2029-09-30 00:00:00', freq='M'), Timestamp('2029-10-31 00:00:00', freq='M'), Timestamp('2029-11-30 00:00:00', freq='M'), Timestamp('2029-12-31 00:00:00', freq='M'), Timestamp('2030-01-31 00:00:00', freq='M'), Timestamp('2030-02-28 00:00:00', freq='M'), Timestamp('2030-03-31 00:00:00', freq='M'), Timestamp('2030-04-30 00:00:00', freq='M')]\n"
          ]
        }
      ]
    },
    {
      "cell_type": "code",
      "source": [
        "prediction = model.predict(trainX[-n_days_for_prediction:]) "
      ],
      "metadata": {
        "colab": {
          "base_uri": "https://localhost:8080/"
        },
        "id": "omuhi-fFjuzK",
        "outputId": "80b32afe-65a6-44d0-f920-ee6d8a41b024"
      },
      "execution_count": 253,
      "outputs": [
        {
          "output_type": "stream",
          "name": "stdout",
          "text": [
            "9/9 [==============================] - 0s 6ms/step\n"
          ]
        }
      ]
    },
    {
      "cell_type": "code",
      "source": [
        "prediction_copies = np.repeat(prediction, df_for_training.shape[1], axis=-1)\n",
        "y_pred_future = scaler.inverse_transform(prediction_copies)[:,9]"
      ],
      "metadata": {
        "id": "A68cGGUlkLp7"
      },
      "execution_count": 254,
      "outputs": []
    },
    {
      "cell_type": "code",
      "source": [
        "forecast_dates = []\n",
        "for time_i in predict_period_dates:\n",
        "    forecast_dates.append(time_i.date())\n",
        "    \n",
        "df_forecast = pd.DataFrame({'Date':np.array(forecast_dates), 'price':y_pred_future})\n",
        "df_forecast['Date']=pd.to_datetime(df_forecast['Date'])"
      ],
      "metadata": {
        "id": "RRg0e30rkPIK"
      },
      "execution_count": 255,
      "outputs": []
    },
    {
      "cell_type": "code",
      "source": [
        "original = df[['Date', 'price']]\n",
        "original['Date']=pd.to_datetime(original['Date'])\n",
        "original\n"
      ],
      "metadata": {
        "colab": {
          "base_uri": "https://localhost:8080/",
          "height": 548
        },
        "id": "7PbdmSaPkUK7",
        "outputId": "b735df24-ff5f-46ea-b4d0-efe633e5d6dc"
      },
      "execution_count": 256,
      "outputs": [
        {
          "output_type": "stream",
          "name": "stderr",
          "text": [
            "<ipython-input-256-20f60c629b61>:2: SettingWithCopyWarning: \n",
            "A value is trying to be set on a copy of a slice from a DataFrame.\n",
            "Try using .loc[row_indexer,col_indexer] = value instead\n",
            "\n",
            "See the caveats in the documentation: https://pandas.pydata.org/pandas-docs/stable/user_guide/indexing.html#returning-a-view-versus-a-copy\n",
            "  original['Date']=pd.to_datetime(original['Date'])\n"
          ]
        },
        {
          "output_type": "execute_result",
          "data": {
            "text/plain": [
              "          Date       price\n",
              "0   2006-07-31  100.000000\n",
              "1   2006-08-31  101.924169\n",
              "2   2006-09-29  103.166191\n",
              "3   2006-10-31  104.478956\n",
              "4   2006-11-30  104.160907\n",
              "..         ...         ...\n",
              "295 2018-08-31   88.802113\n",
              "296 2018-09-28   88.018930\n",
              "297 2018-10-31   87.617812\n",
              "298 2018-11-30   88.135261\n",
              "299 2018-12-31   88.942826\n",
              "\n",
              "[300 rows x 2 columns]"
            ],
            "text/html": [
              "\n",
              "  <div id=\"df-91b07fd1-82ab-459f-83ef-c56a2932571d\">\n",
              "    <div class=\"colab-df-container\">\n",
              "      <div>\n",
              "<style scoped>\n",
              "    .dataframe tbody tr th:only-of-type {\n",
              "        vertical-align: middle;\n",
              "    }\n",
              "\n",
              "    .dataframe tbody tr th {\n",
              "        vertical-align: top;\n",
              "    }\n",
              "\n",
              "    .dataframe thead th {\n",
              "        text-align: right;\n",
              "    }\n",
              "</style>\n",
              "<table border=\"1\" class=\"dataframe\">\n",
              "  <thead>\n",
              "    <tr style=\"text-align: right;\">\n",
              "      <th></th>\n",
              "      <th>Date</th>\n",
              "      <th>price</th>\n",
              "    </tr>\n",
              "  </thead>\n",
              "  <tbody>\n",
              "    <tr>\n",
              "      <th>0</th>\n",
              "      <td>2006-07-31</td>\n",
              "      <td>100.000000</td>\n",
              "    </tr>\n",
              "    <tr>\n",
              "      <th>1</th>\n",
              "      <td>2006-08-31</td>\n",
              "      <td>101.924169</td>\n",
              "    </tr>\n",
              "    <tr>\n",
              "      <th>2</th>\n",
              "      <td>2006-09-29</td>\n",
              "      <td>103.166191</td>\n",
              "    </tr>\n",
              "    <tr>\n",
              "      <th>3</th>\n",
              "      <td>2006-10-31</td>\n",
              "      <td>104.478956</td>\n",
              "    </tr>\n",
              "    <tr>\n",
              "      <th>4</th>\n",
              "      <td>2006-11-30</td>\n",
              "      <td>104.160907</td>\n",
              "    </tr>\n",
              "    <tr>\n",
              "      <th>...</th>\n",
              "      <td>...</td>\n",
              "      <td>...</td>\n",
              "    </tr>\n",
              "    <tr>\n",
              "      <th>295</th>\n",
              "      <td>2018-08-31</td>\n",
              "      <td>88.802113</td>\n",
              "    </tr>\n",
              "    <tr>\n",
              "      <th>296</th>\n",
              "      <td>2018-09-28</td>\n",
              "      <td>88.018930</td>\n",
              "    </tr>\n",
              "    <tr>\n",
              "      <th>297</th>\n",
              "      <td>2018-10-31</td>\n",
              "      <td>87.617812</td>\n",
              "    </tr>\n",
              "    <tr>\n",
              "      <th>298</th>\n",
              "      <td>2018-11-30</td>\n",
              "      <td>88.135261</td>\n",
              "    </tr>\n",
              "    <tr>\n",
              "      <th>299</th>\n",
              "      <td>2018-12-31</td>\n",
              "      <td>88.942826</td>\n",
              "    </tr>\n",
              "  </tbody>\n",
              "</table>\n",
              "<p>300 rows × 2 columns</p>\n",
              "</div>\n",
              "      <button class=\"colab-df-convert\" onclick=\"convertToInteractive('df-91b07fd1-82ab-459f-83ef-c56a2932571d')\"\n",
              "              title=\"Convert this dataframe to an interactive table.\"\n",
              "              style=\"display:none;\">\n",
              "        \n",
              "  <svg xmlns=\"http://www.w3.org/2000/svg\" height=\"24px\"viewBox=\"0 0 24 24\"\n",
              "       width=\"24px\">\n",
              "    <path d=\"M0 0h24v24H0V0z\" fill=\"none\"/>\n",
              "    <path d=\"M18.56 5.44l.94 2.06.94-2.06 2.06-.94-2.06-.94-.94-2.06-.94 2.06-2.06.94zm-11 1L8.5 8.5l.94-2.06 2.06-.94-2.06-.94L8.5 2.5l-.94 2.06-2.06.94zm10 10l.94 2.06.94-2.06 2.06-.94-2.06-.94-.94-2.06-.94 2.06-2.06.94z\"/><path d=\"M17.41 7.96l-1.37-1.37c-.4-.4-.92-.59-1.43-.59-.52 0-1.04.2-1.43.59L10.3 9.45l-7.72 7.72c-.78.78-.78 2.05 0 2.83L4 21.41c.39.39.9.59 1.41.59.51 0 1.02-.2 1.41-.59l7.78-7.78 2.81-2.81c.8-.78.8-2.07 0-2.86zM5.41 20L4 18.59l7.72-7.72 1.47 1.35L5.41 20z\"/>\n",
              "  </svg>\n",
              "      </button>\n",
              "      \n",
              "  <style>\n",
              "    .colab-df-container {\n",
              "      display:flex;\n",
              "      flex-wrap:wrap;\n",
              "      gap: 12px;\n",
              "    }\n",
              "\n",
              "    .colab-df-convert {\n",
              "      background-color: #E8F0FE;\n",
              "      border: none;\n",
              "      border-radius: 50%;\n",
              "      cursor: pointer;\n",
              "      display: none;\n",
              "      fill: #1967D2;\n",
              "      height: 32px;\n",
              "      padding: 0 0 0 0;\n",
              "      width: 32px;\n",
              "    }\n",
              "\n",
              "    .colab-df-convert:hover {\n",
              "      background-color: #E2EBFA;\n",
              "      box-shadow: 0px 1px 2px rgba(60, 64, 67, 0.3), 0px 1px 3px 1px rgba(60, 64, 67, 0.15);\n",
              "      fill: #174EA6;\n",
              "    }\n",
              "\n",
              "    [theme=dark] .colab-df-convert {\n",
              "      background-color: #3B4455;\n",
              "      fill: #D2E3FC;\n",
              "    }\n",
              "\n",
              "    [theme=dark] .colab-df-convert:hover {\n",
              "      background-color: #434B5C;\n",
              "      box-shadow: 0px 1px 3px 1px rgba(0, 0, 0, 0.15);\n",
              "      filter: drop-shadow(0px 1px 2px rgba(0, 0, 0, 0.3));\n",
              "      fill: #FFFFFF;\n",
              "    }\n",
              "  </style>\n",
              "\n",
              "      <script>\n",
              "        const buttonEl =\n",
              "          document.querySelector('#df-91b07fd1-82ab-459f-83ef-c56a2932571d button.colab-df-convert');\n",
              "        buttonEl.style.display =\n",
              "          google.colab.kernel.accessAllowed ? 'block' : 'none';\n",
              "\n",
              "        async function convertToInteractive(key) {\n",
              "          const element = document.querySelector('#df-91b07fd1-82ab-459f-83ef-c56a2932571d');\n",
              "          const dataTable =\n",
              "            await google.colab.kernel.invokeFunction('convertToInteractive',\n",
              "                                                     [key], {});\n",
              "          if (!dataTable) return;\n",
              "\n",
              "          const docLinkHtml = 'Like what you see? Visit the ' +\n",
              "            '<a target=\"_blank\" href=https://colab.research.google.com/notebooks/data_table.ipynb>data table notebook</a>'\n",
              "            + ' to learn more about interactive tables.';\n",
              "          element.innerHTML = '';\n",
              "          dataTable['output_type'] = 'display_data';\n",
              "          await google.colab.output.renderOutput(dataTable, element);\n",
              "          const docLink = document.createElement('div');\n",
              "          docLink.innerHTML = docLinkHtml;\n",
              "          element.appendChild(docLink);\n",
              "        }\n",
              "      </script>\n",
              "    </div>\n",
              "  </div>\n",
              "  "
            ]
          },
          "metadata": {},
          "execution_count": 256
        }
      ]
    },
    {
      "cell_type": "code",
      "source": [
        "df_forecast"
      ],
      "metadata": {
        "colab": {
          "base_uri": "https://localhost:8080/",
          "height": 424
        },
        "id": "uQKHlrzh2Jl6",
        "outputId": "e1923365-0d70-4b76-a9f8-259751aab2e7"
      },
      "execution_count": 257,
      "outputs": [
        {
          "output_type": "execute_result",
          "data": {
            "text/plain": [
              "          Date       price\n",
              "0   2006-07-31  107.644890\n",
              "1   2006-08-31  107.179596\n",
              "2   2006-09-30  107.371971\n",
              "3   2006-10-31  106.964951\n",
              "4   2006-11-30  106.762024\n",
              "..         ...         ...\n",
              "281 2029-12-31   82.742599\n",
              "282 2030-01-31   83.122917\n",
              "283 2030-02-28   83.090538\n",
              "284 2030-03-31   82.817192\n",
              "285 2030-04-30   84.461395\n",
              "\n",
              "[286 rows x 2 columns]"
            ],
            "text/html": [
              "\n",
              "  <div id=\"df-3a3d5724-1023-4af1-b805-c3c82828a26e\">\n",
              "    <div class=\"colab-df-container\">\n",
              "      <div>\n",
              "<style scoped>\n",
              "    .dataframe tbody tr th:only-of-type {\n",
              "        vertical-align: middle;\n",
              "    }\n",
              "\n",
              "    .dataframe tbody tr th {\n",
              "        vertical-align: top;\n",
              "    }\n",
              "\n",
              "    .dataframe thead th {\n",
              "        text-align: right;\n",
              "    }\n",
              "</style>\n",
              "<table border=\"1\" class=\"dataframe\">\n",
              "  <thead>\n",
              "    <tr style=\"text-align: right;\">\n",
              "      <th></th>\n",
              "      <th>Date</th>\n",
              "      <th>price</th>\n",
              "    </tr>\n",
              "  </thead>\n",
              "  <tbody>\n",
              "    <tr>\n",
              "      <th>0</th>\n",
              "      <td>2006-07-31</td>\n",
              "      <td>107.644890</td>\n",
              "    </tr>\n",
              "    <tr>\n",
              "      <th>1</th>\n",
              "      <td>2006-08-31</td>\n",
              "      <td>107.179596</td>\n",
              "    </tr>\n",
              "    <tr>\n",
              "      <th>2</th>\n",
              "      <td>2006-09-30</td>\n",
              "      <td>107.371971</td>\n",
              "    </tr>\n",
              "    <tr>\n",
              "      <th>3</th>\n",
              "      <td>2006-10-31</td>\n",
              "      <td>106.964951</td>\n",
              "    </tr>\n",
              "    <tr>\n",
              "      <th>4</th>\n",
              "      <td>2006-11-30</td>\n",
              "      <td>106.762024</td>\n",
              "    </tr>\n",
              "    <tr>\n",
              "      <th>...</th>\n",
              "      <td>...</td>\n",
              "      <td>...</td>\n",
              "    </tr>\n",
              "    <tr>\n",
              "      <th>281</th>\n",
              "      <td>2029-12-31</td>\n",
              "      <td>82.742599</td>\n",
              "    </tr>\n",
              "    <tr>\n",
              "      <th>282</th>\n",
              "      <td>2030-01-31</td>\n",
              "      <td>83.122917</td>\n",
              "    </tr>\n",
              "    <tr>\n",
              "      <th>283</th>\n",
              "      <td>2030-02-28</td>\n",
              "      <td>83.090538</td>\n",
              "    </tr>\n",
              "    <tr>\n",
              "      <th>284</th>\n",
              "      <td>2030-03-31</td>\n",
              "      <td>82.817192</td>\n",
              "    </tr>\n",
              "    <tr>\n",
              "      <th>285</th>\n",
              "      <td>2030-04-30</td>\n",
              "      <td>84.461395</td>\n",
              "    </tr>\n",
              "  </tbody>\n",
              "</table>\n",
              "<p>286 rows × 2 columns</p>\n",
              "</div>\n",
              "      <button class=\"colab-df-convert\" onclick=\"convertToInteractive('df-3a3d5724-1023-4af1-b805-c3c82828a26e')\"\n",
              "              title=\"Convert this dataframe to an interactive table.\"\n",
              "              style=\"display:none;\">\n",
              "        \n",
              "  <svg xmlns=\"http://www.w3.org/2000/svg\" height=\"24px\"viewBox=\"0 0 24 24\"\n",
              "       width=\"24px\">\n",
              "    <path d=\"M0 0h24v24H0V0z\" fill=\"none\"/>\n",
              "    <path d=\"M18.56 5.44l.94 2.06.94-2.06 2.06-.94-2.06-.94-.94-2.06-.94 2.06-2.06.94zm-11 1L8.5 8.5l.94-2.06 2.06-.94-2.06-.94L8.5 2.5l-.94 2.06-2.06.94zm10 10l.94 2.06.94-2.06 2.06-.94-2.06-.94-.94-2.06-.94 2.06-2.06.94z\"/><path d=\"M17.41 7.96l-1.37-1.37c-.4-.4-.92-.59-1.43-.59-.52 0-1.04.2-1.43.59L10.3 9.45l-7.72 7.72c-.78.78-.78 2.05 0 2.83L4 21.41c.39.39.9.59 1.41.59.51 0 1.02-.2 1.41-.59l7.78-7.78 2.81-2.81c.8-.78.8-2.07 0-2.86zM5.41 20L4 18.59l7.72-7.72 1.47 1.35L5.41 20z\"/>\n",
              "  </svg>\n",
              "      </button>\n",
              "      \n",
              "  <style>\n",
              "    .colab-df-container {\n",
              "      display:flex;\n",
              "      flex-wrap:wrap;\n",
              "      gap: 12px;\n",
              "    }\n",
              "\n",
              "    .colab-df-convert {\n",
              "      background-color: #E8F0FE;\n",
              "      border: none;\n",
              "      border-radius: 50%;\n",
              "      cursor: pointer;\n",
              "      display: none;\n",
              "      fill: #1967D2;\n",
              "      height: 32px;\n",
              "      padding: 0 0 0 0;\n",
              "      width: 32px;\n",
              "    }\n",
              "\n",
              "    .colab-df-convert:hover {\n",
              "      background-color: #E2EBFA;\n",
              "      box-shadow: 0px 1px 2px rgba(60, 64, 67, 0.3), 0px 1px 3px 1px rgba(60, 64, 67, 0.15);\n",
              "      fill: #174EA6;\n",
              "    }\n",
              "\n",
              "    [theme=dark] .colab-df-convert {\n",
              "      background-color: #3B4455;\n",
              "      fill: #D2E3FC;\n",
              "    }\n",
              "\n",
              "    [theme=dark] .colab-df-convert:hover {\n",
              "      background-color: #434B5C;\n",
              "      box-shadow: 0px 1px 3px 1px rgba(0, 0, 0, 0.15);\n",
              "      filter: drop-shadow(0px 1px 2px rgba(0, 0, 0, 0.3));\n",
              "      fill: #FFFFFF;\n",
              "    }\n",
              "  </style>\n",
              "\n",
              "      <script>\n",
              "        const buttonEl =\n",
              "          document.querySelector('#df-3a3d5724-1023-4af1-b805-c3c82828a26e button.colab-df-convert');\n",
              "        buttonEl.style.display =\n",
              "          google.colab.kernel.accessAllowed ? 'block' : 'none';\n",
              "\n",
              "        async function convertToInteractive(key) {\n",
              "          const element = document.querySelector('#df-3a3d5724-1023-4af1-b805-c3c82828a26e');\n",
              "          const dataTable =\n",
              "            await google.colab.kernel.invokeFunction('convertToInteractive',\n",
              "                                                     [key], {});\n",
              "          if (!dataTable) return;\n",
              "\n",
              "          const docLinkHtml = 'Like what you see? Visit the ' +\n",
              "            '<a target=\"_blank\" href=https://colab.research.google.com/notebooks/data_table.ipynb>data table notebook</a>'\n",
              "            + ' to learn more about interactive tables.';\n",
              "          element.innerHTML = '';\n",
              "          dataTable['output_type'] = 'display_data';\n",
              "          await google.colab.output.renderOutput(dataTable, element);\n",
              "          const docLink = document.createElement('div');\n",
              "          docLink.innerHTML = docLinkHtml;\n",
              "          element.appendChild(docLink);\n",
              "        }\n",
              "      </script>\n",
              "    </div>\n",
              "  </div>\n",
              "  "
            ]
          },
          "metadata": {},
          "execution_count": 257
        }
      ]
    },
    {
      "cell_type": "code",
      "source": [
        "original.plot(x='Date',y='price')\n",
        "original= pd.concat([original,df_forecast],axis=0)\n",
        "original.plot(x='Date',y='price')\n",
        "#f_forecast.plot(x='Date',y='price')\n"
      ],
      "metadata": {
        "colab": {
          "base_uri": "https://localhost:8080/",
          "height": 844
        },
        "id": "RLBZ0Dddla_5",
        "outputId": "0e99dfc0-adfc-4768-d739-b2900684f881"
      },
      "execution_count": 258,
      "outputs": [
        {
          "output_type": "execute_result",
          "data": {
            "text/plain": [
              "<Axes: xlabel='Date'>"
            ]
          },
          "metadata": {},
          "execution_count": 258
        },
        {
          "output_type": "display_data",
          "data": {
            "text/plain": [
              "<Figure size 640x480 with 1 Axes>"
            ],
            "image/png": "[encoded data removed]"
          },
          "metadata": {}
        },
        {
          "output_type": "display_data",
          "data": {
            "text/plain": [
              "<Figure size 640x480 with 1 Axes>"
            ],
            "image/png": "[encoded data removed]"
          },
          "metadata": {}
        }
      ]
    },
    {
      "cell_type": "code",
      "source": [
        "# For finding efficiency of our model\n",
        "\n",
        "import math as mth\n",
        "def rmse_calc(actual,predicted):\n",
        "  rmse=mth.sqrt(((((actual-predicted)/actual)*100)**2).mean())\n",
        "  return rmse\n",
        "\n",
        "print('the efficiency of our model is=',100-rmse_calc(original['price'],df_forecast['price']) )"
      ],
      "metadata": {
        "colab": {
          "base_uri": "https://localhost:8080/"
        },
        "id": "rb9xdOoyOJxW",
        "outputId": "e09beb0f-dee1-4de6-e5c3-2b844f1edb48"
      },
      "execution_count": 259,
      "outputs": [
        {
          "output_type": "stream",
          "name": "stdout",
          "text": [
            "the efficiency of our model is= 96.34677419503632\n"
          ]
        }
      ]
    }
  ]
}